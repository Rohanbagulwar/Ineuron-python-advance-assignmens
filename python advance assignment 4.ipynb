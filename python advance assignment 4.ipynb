{
 "cells": [
  {
   "cell_type": "markdown",
   "metadata": {},
   "source": [
    "# Assignment 4"
   ]
  },
  {
   "cell_type": "markdown",
   "metadata": {},
   "source": [
    "# Q1. Which two operator overloading methods can you use in your classes to support iteration?"
   ]
  },
  {
   "cell_type": "code",
   "execution_count": 41,
   "metadata": {},
   "outputs": [],
   "source": [
    "class InfIter:\n",
    "   \n",
    "\n",
    "    def __iter__(self):\n",
    "        self.num = 1\n",
    "        return self\n",
    "\n",
    "    def __next__(self):\n",
    "        num = self.num\n",
    "        self.num += 2\n",
    "        return num\n",
    "        "
   ]
  },
  {
   "cell_type": "code",
   "execution_count": 29,
   "metadata": {},
   "outputs": [],
   "source": [
    "s=S()"
   ]
  },
  {
   "cell_type": "code",
   "execution_count": 43,
   "metadata": {},
   "outputs": [],
   "source": [
    "a=(iter(InfIter()))"
   ]
  },
  {
   "cell_type": "code",
   "execution_count": 47,
   "metadata": {},
   "outputs": [
    {
     "data": {
      "text/plain": [
       "7"
      ]
     },
     "execution_count": 47,
     "metadata": {},
     "output_type": "execute_result"
    }
   ],
   "source": [
    "next(a)"
   ]
  },
  {
   "cell_type": "markdown",
   "metadata": {},
   "source": [
    "# Q2. In what contexts do the two operator overloading methods manage printing?"
   ]
  },
  {
   "cell_type": "code",
   "execution_count": 121,
   "metadata": {},
   "outputs": [
    {
     "name": "stdout",
     "output_type": "stream",
     "text": [
      " my name is  rohan\n"
     ]
    }
   ],
   "source": [
    "class FunctionLike(object):\n",
    "    def __call__(self, a):\n",
    "        print(\" {0}\".format(a))\n",
    "\n",
    "fn = FunctionLike()\n",
    "fn('my name is  rohan')"
   ]
  },
  {
   "cell_type": "markdown",
   "metadata": {},
   "source": [
    "# Q3. In a class, how do you intercept slice operations?"
   ]
  },
  {
   "cell_type": "code",
   "execution_count": 62,
   "metadata": {},
   "outputs": [],
   "source": [
    "class S():\n",
    "    def __init__(self,s):\n",
    "        self.strs=s\n",
    "    def method(self):\n",
    "        strs=self.strs\n",
    "        a=slice(0,3)\n",
    "        \n",
    "        return strs[0:3],strs[a]\n",
    "    \n",
    "        \n",
    "        \n",
    "        "
   ]
  },
  {
   "cell_type": "code",
   "execution_count": 63,
   "metadata": {},
   "outputs": [
    {
     "data": {
      "text/plain": [
       "('roh', 'roh')"
      ]
     },
     "execution_count": 63,
     "metadata": {},
     "output_type": "execute_result"
    }
   ],
   "source": [
    "S('rohan').method()"
   ]
  },
  {
   "cell_type": "markdown",
   "metadata": {},
   "source": [
    "# Q4. In a class, how do you capture in-place addition?"
   ]
  },
  {
   "cell_type": "code",
   "execution_count": 88,
   "metadata": {},
   "outputs": [],
   "source": [
    "class S():\n",
    "    def __init__(self,s):\n",
    "        self.ss=s\n",
    "    def __add__(self,other):\n",
    "        print(self.ss)\n",
    "        return self.ss+other.ss\n",
    "    "
   ]
  },
  {
   "cell_type": "code",
   "execution_count": 89,
   "metadata": {},
   "outputs": [],
   "source": [
    "a1=S('ram')"
   ]
  },
  {
   "cell_type": "code",
   "execution_count": 92,
   "metadata": {},
   "outputs": [],
   "source": [
    "a2=S('sham')\n",
    "a3=S('karan')"
   ]
  },
  {
   "cell_type": "code",
   "execution_count": 95,
   "metadata": {},
   "outputs": [
    {
     "name": "stdout",
     "output_type": "stream",
     "text": [
      "sham\n"
     ]
    },
    {
     "data": {
      "text/plain": [
       "'shamkaran'"
      ]
     },
     "execution_count": 95,
     "metadata": {},
     "output_type": "execute_result"
    }
   ],
   "source": [
    "a2+a3"
   ]
  },
  {
   "cell_type": "markdown",
   "metadata": {},
   "source": [
    "# Q5. When is it appropriate to use operator overloading?"
   ]
  },
  {
   "cell_type": "code",
   "execution_count": 112,
   "metadata": {},
   "outputs": [],
   "source": [
    "class S():\n",
    "    def __init__(self,s):\n",
    "        self.ss=s\n",
    "    def __add__(self,other):\n",
    "        print(self.ss)\n",
    "        return self.ss+other.ss\n",
    "    def __lt__(self,other):\n",
    "        if (self.ss>other.ss):\n",
    "            pass\n",
    "        return str(self.ss)+' is lower than'+str(other.ss)"
   ]
  },
  {
   "cell_type": "code",
   "execution_count": 100,
   "metadata": {},
   "outputs": [],
   "source": [
    "a2=S('sham')\n",
    "a3=S('karan')"
   ]
  },
  {
   "cell_type": "code",
   "execution_count": 101,
   "metadata": {},
   "outputs": [
    {
     "name": "stdout",
     "output_type": "stream",
     "text": [
      "sham\n"
     ]
    },
    {
     "data": {
      "text/plain": [
       "'shamkaran'"
      ]
     },
     "execution_count": 101,
     "metadata": {},
     "output_type": "execute_result"
    }
   ],
   "source": [
    "a2+a3"
   ]
  },
  {
   "cell_type": "code",
   "execution_count": 108,
   "metadata": {},
   "outputs": [],
   "source": [
    "a2=S(1)\n",
    "a3=S(2)"
   ]
  },
  {
   "cell_type": "code",
   "execution_count": 113,
   "metadata": {},
   "outputs": [
    {
     "data": {
      "text/plain": [
       "'2it is lower'"
      ]
     },
     "execution_count": 113,
     "metadata": {},
     "output_type": "execute_result"
    }
   ],
   "source": [
    "a2>a3"
   ]
  },
  {
   "cell_type": "code",
   "execution_count": 122,
   "metadata": {},
   "outputs": [],
   "source": [
    "vars()['ravi']=20"
   ]
  },
  {
   "cell_type": "code",
   "execution_count": 123,
   "metadata": {},
   "outputs": [
    {
     "data": {
      "text/plain": [
       "20"
      ]
     },
     "execution_count": 123,
     "metadata": {},
     "output_type": "execute_result"
    }
   ],
   "source": [
    "ravi"
   ]
  },
  {
   "cell_type": "code",
   "execution_count": 129,
   "metadata": {},
   "outputs": [
    {
     "data": {
      "text/plain": [
       "mappingproxy({'__repr__': <slot wrapper '__repr__' of 'dict' objects>,\n",
       "              '__hash__': None,\n",
       "              '__getattribute__': <slot wrapper '__getattribute__' of 'dict' objects>,\n",
       "              '__lt__': <slot wrapper '__lt__' of 'dict' objects>,\n",
       "              '__le__': <slot wrapper '__le__' of 'dict' objects>,\n",
       "              '__eq__': <slot wrapper '__eq__' of 'dict' objects>,\n",
       "              '__ne__': <slot wrapper '__ne__' of 'dict' objects>,\n",
       "              '__gt__': <slot wrapper '__gt__' of 'dict' objects>,\n",
       "              '__ge__': <slot wrapper '__ge__' of 'dict' objects>,\n",
       "              '__iter__': <slot wrapper '__iter__' of 'dict' objects>,\n",
       "              '__init__': <slot wrapper '__init__' of 'dict' objects>,\n",
       "              '__len__': <slot wrapper '__len__' of 'dict' objects>,\n",
       "              '__getitem__': <method '__getitem__' of 'dict' objects>,\n",
       "              '__setitem__': <slot wrapper '__setitem__' of 'dict' objects>,\n",
       "              '__delitem__': <slot wrapper '__delitem__' of 'dict' objects>,\n",
       "              '__contains__': <method '__contains__' of 'dict' objects>,\n",
       "              '__new__': <function dict.__new__(*args, **kwargs)>,\n",
       "              '__sizeof__': <method '__sizeof__' of 'dict' objects>,\n",
       "              'get': <method 'get' of 'dict' objects>,\n",
       "              'setdefault': <method 'setdefault' of 'dict' objects>,\n",
       "              'pop': <method 'pop' of 'dict' objects>,\n",
       "              'popitem': <method 'popitem' of 'dict' objects>,\n",
       "              'keys': <method 'keys' of 'dict' objects>,\n",
       "              'items': <method 'items' of 'dict' objects>,\n",
       "              'values': <method 'values' of 'dict' objects>,\n",
       "              'update': <method 'update' of 'dict' objects>,\n",
       "              'fromkeys': <method 'fromkeys' of 'dict' objects>,\n",
       "              'clear': <method 'clear' of 'dict' objects>,\n",
       "              'copy': <method 'copy' of 'dict' objects>,\n",
       "              '__doc__': \"dict() -> new empty dictionary\\ndict(mapping) -> new dictionary initialized from a mapping object's\\n    (key, value) pairs\\ndict(iterable) -> new dictionary initialized as if via:\\n    d = {}\\n    for k, v in iterable:\\n        d[k] = v\\ndict(**kwargs) -> new dictionary initialized with the name=value pairs\\n    in the keyword argument list.  For example:  dict(one=1, two=2)\"})"
      ]
     },
     "execution_count": 129,
     "metadata": {},
     "output_type": "execute_result"
    }
   ],
   "source": [
    "(vars(dict))"
   ]
  },
  {
   "cell_type": "code",
   "execution_count": null,
   "metadata": {},
   "outputs": [],
   "source": []
  },
  {
   "cell_type": "code",
   "execution_count": null,
   "metadata": {},
   "outputs": [],
   "source": []
  }
 ],
 "metadata": {
  "kernelspec": {
   "display_name": "Python 3",
   "language": "python",
   "name": "python3"
  },
  "language_info": {
   "codemirror_mode": {
    "name": "ipython",
    "version": 3
   },
   "file_extension": ".py",
   "mimetype": "text/x-python",
   "name": "python",
   "nbconvert_exporter": "python",
   "pygments_lexer": "ipython3",
   "version": "3.7.4"
  }
 },
 "nbformat": 4,
 "nbformat_minor": 4
}
