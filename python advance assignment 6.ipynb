{
 "cells": [
  {
   "cell_type": "markdown",
   "metadata": {},
   "source": [
    "# Assignment 6"
   ]
  },
  {
   "cell_type": "markdown",
   "metadata": {},
   "source": [
    "# Q1. Describe three applications for exception processing.\n"
   ]
  },
  {
   "cell_type": "markdown",
   "metadata": {},
   "source": [
    "==>In exception program will not terminate in any circumstances.\n",
    "It is also one of the standard oops approach of writting code.\n",
    "Also we can create an custom exception according to our need and shows  proper message to the module user and logg thses files.   "
   ]
  },
  {
   "cell_type": "code",
   "execution_count": 8,
   "metadata": {},
   "outputs": [
    {
     "name": "stdout",
     "output_type": "stream",
     "text": [
      "division by zero\n",
      "finally it will prints in any circumstances\n"
     ]
    }
   ],
   "source": [
    "try:\n",
    "    a=2\n",
    "    b=0\n",
    "    c=a/b\n",
    "except Exception as a:\n",
    "    print(a)\n",
    "finally:\n",
    "    print('finally it will prints in any circumstances')"
   ]
  },
  {
   "cell_type": "markdown",
   "metadata": {},
   "source": [
    "# Q2. What happens if you don't do something extra to treat an exception?"
   ]
  },
  {
   "cell_type": "code",
   "execution_count": 4,
   "metadata": {},
   "outputs": [],
   "source": [
    "# simply it will be skipped without executing remaining.\n",
    "try:\n",
    "    a=2\n",
    "    b=0\n",
    "    c=a/b\n",
    "    print(c)\n",
    "except:\n",
    "    pass\n"
   ]
  },
  {
   "cell_type": "markdown",
   "metadata": {},
   "source": [
    "# Q3. What are your options for recovering from an exception in your script?\n"
   ]
  },
  {
   "cell_type": "code",
   "execution_count": 21,
   "metadata": {},
   "outputs": [
    {
     "name": "stdout",
     "output_type": "stream",
     "text": [
      "Exception('in the try')\n",
      "--Return--\n",
      "> <ipython-input-21-30aa5b56f1b9>(9)<module>()->None\n",
      "-> pdb.set_trace()\n",
      "(Pdb) n\n",
      "> c:\\users\\rohan\\appdata\\local\\programs\\python\\python37-32\\lib\\site-packages\\ipython\\core\\interactiveshell.py(3440)run_code()\n",
      "-> sys.excepthook = old_excepthook\n",
      "(Pdb) n\n",
      "> c:\\users\\rohan\\appdata\\local\\programs\\python\\python37-32\\lib\\site-packages\\ipython\\core\\interactiveshell.py(3456)run_code()\n",
      "-> outflag = False\n",
      "(Pdb) q\n"
     ]
    },
    {
     "ename": "BdbQuit",
     "evalue": "",
     "output_type": "error",
     "traceback": [
      "\u001b[1;31m---------------------------------------------------------------------------\u001b[0m",
      "\u001b[1;31mBdbQuit\u001b[0m                                   Traceback (most recent call last)",
      "    \u001b[1;31m[... skipping hidden 2 frame]\u001b[0m\n",
      "\u001b[1;32mc:\\users\\rohan\\appdata\\local\\programs\\python\\python37-32\\lib\\bdb.py\u001b[0m in \u001b[0;36mtrace_dispatch\u001b[1;34m(self, frame, event, arg)\u001b[0m\n\u001b[0;32m     86\u001b[0m             \u001b[1;32mreturn\u001b[0m \u001b[1;31m# None\u001b[0m\u001b[1;33m\u001b[0m\u001b[1;33m\u001b[0m\u001b[0m\n\u001b[0;32m     87\u001b[0m         \u001b[1;32mif\u001b[0m \u001b[0mevent\u001b[0m \u001b[1;33m==\u001b[0m \u001b[1;34m'line'\u001b[0m\u001b[1;33m:\u001b[0m\u001b[1;33m\u001b[0m\u001b[1;33m\u001b[0m\u001b[0m\n\u001b[1;32m---> 88\u001b[1;33m             \u001b[1;32mreturn\u001b[0m \u001b[0mself\u001b[0m\u001b[1;33m.\u001b[0m\u001b[0mdispatch_line\u001b[0m\u001b[1;33m(\u001b[0m\u001b[0mframe\u001b[0m\u001b[1;33m)\u001b[0m\u001b[1;33m\u001b[0m\u001b[1;33m\u001b[0m\u001b[0m\n\u001b[0m\u001b[0;32m     89\u001b[0m         \u001b[1;32mif\u001b[0m \u001b[0mevent\u001b[0m \u001b[1;33m==\u001b[0m \u001b[1;34m'call'\u001b[0m\u001b[1;33m:\u001b[0m\u001b[1;33m\u001b[0m\u001b[1;33m\u001b[0m\u001b[0m\n\u001b[0;32m     90\u001b[0m             \u001b[1;32mreturn\u001b[0m \u001b[0mself\u001b[0m\u001b[1;33m.\u001b[0m\u001b[0mdispatch_call\u001b[0m\u001b[1;33m(\u001b[0m\u001b[0mframe\u001b[0m\u001b[1;33m,\u001b[0m \u001b[0marg\u001b[0m\u001b[1;33m)\u001b[0m\u001b[1;33m\u001b[0m\u001b[1;33m\u001b[0m\u001b[0m\n",
      "\u001b[1;32mc:\\users\\rohan\\appdata\\local\\programs\\python\\python37-32\\lib\\bdb.py\u001b[0m in \u001b[0;36mdispatch_line\u001b[1;34m(self, frame)\u001b[0m\n\u001b[0;32m    111\u001b[0m         \u001b[1;32mif\u001b[0m \u001b[0mself\u001b[0m\u001b[1;33m.\u001b[0m\u001b[0mstop_here\u001b[0m\u001b[1;33m(\u001b[0m\u001b[0mframe\u001b[0m\u001b[1;33m)\u001b[0m \u001b[1;32mor\u001b[0m \u001b[0mself\u001b[0m\u001b[1;33m.\u001b[0m\u001b[0mbreak_here\u001b[0m\u001b[1;33m(\u001b[0m\u001b[0mframe\u001b[0m\u001b[1;33m)\u001b[0m\u001b[1;33m:\u001b[0m\u001b[1;33m\u001b[0m\u001b[1;33m\u001b[0m\u001b[0m\n\u001b[0;32m    112\u001b[0m             \u001b[0mself\u001b[0m\u001b[1;33m.\u001b[0m\u001b[0muser_line\u001b[0m\u001b[1;33m(\u001b[0m\u001b[0mframe\u001b[0m\u001b[1;33m)\u001b[0m\u001b[1;33m\u001b[0m\u001b[1;33m\u001b[0m\u001b[0m\n\u001b[1;32m--> 113\u001b[1;33m             \u001b[1;32mif\u001b[0m \u001b[0mself\u001b[0m\u001b[1;33m.\u001b[0m\u001b[0mquitting\u001b[0m\u001b[1;33m:\u001b[0m \u001b[1;32mraise\u001b[0m \u001b[0mBdbQuit\u001b[0m\u001b[1;33m\u001b[0m\u001b[1;33m\u001b[0m\u001b[0m\n\u001b[0m\u001b[0;32m    114\u001b[0m         \u001b[1;32mreturn\u001b[0m \u001b[0mself\u001b[0m\u001b[1;33m.\u001b[0m\u001b[0mtrace_dispatch\u001b[0m\u001b[1;33m\u001b[0m\u001b[1;33m\u001b[0m\u001b[0m\n\u001b[0;32m    115\u001b[0m \u001b[1;33m\u001b[0m\u001b[0m\n",
      "\u001b[1;31mBdbQuit\u001b[0m: "
     ]
    }
   ],
   "source": [
    "import pdb\n",
    "try:\n",
    "    try:\n",
    "        raise Exception(\"in the try\")\n",
    "    finally:\n",
    "        raise Exception(\"in the finally\")\n",
    "except Exception as e:\n",
    "    print(repr(e.__context__))\n",
    "    pdb.set_trace()"
   ]
  },
  {
   "cell_type": "markdown",
   "metadata": {},
   "source": [
    "# Q4. Describe two methods for triggering exceptions in your script."
   ]
  },
  {
   "cell_type": "code",
   "execution_count": 27,
   "metadata": {},
   "outputs": [
    {
     "name": "stdout",
     "output_type": "stream",
     "text": [
      "value a5\n",
      "value of b0\n",
      "None\n",
      "> <ipython-input-27-65827f374a44>(10)<module>()->None\n",
      "-> print(repr(a))\n",
      "(Pdb) n\n",
      "ZeroDivisionError()\n",
      "--Return--\n",
      "> <ipython-input-27-65827f374a44>(10)<module>()->None\n",
      "-> print(repr(a))\n",
      "(Pdb) n\n",
      "> c:\\users\\rohan\\appdata\\local\\programs\\python\\python37-32\\lib\\site-packages\\ipython\\core\\interactiveshell.py(3440)run_code()\n",
      "-> sys.excepthook = old_excepthook\n",
      "(Pdb) n\n",
      "> c:\\users\\rohan\\appdata\\local\\programs\\python\\python37-32\\lib\\site-packages\\ipython\\core\\interactiveshell.py(3456)run_code()\n",
      "-> outflag = False\n",
      "(Pdb) n\n",
      "> c:\\users\\rohan\\appdata\\local\\programs\\python\\python37-32\\lib\\site-packages\\ipython\\core\\interactiveshell.py(3457)run_code()\n",
      "-> return outflag\n",
      "(Pdb) n\n",
      "Internal StopIteration: False\n",
      "> c:\\users\\rohan\\appdata\\local\\programs\\python\\python37-32\\lib\\site-packages\\ipython\\core\\interactiveshell.py(3357)run_ast_nodes()\n",
      "-> if (await self.run_code(code, result,  async_=asy)):\n",
      "(Pdb) n\n",
      "> c:\\users\\rohan\\appdata\\local\\programs\\python\\python37-32\\lib\\site-packages\\ipython\\core\\interactiveshell.py(3349)run_ast_nodes()\n",
      "-> for node,mode in to_run:\n",
      "(Pdb) n\n",
      "> c:\\users\\rohan\\appdata\\local\\programs\\python\\python37-32\\lib\\site-packages\\ipython\\core\\interactiveshell.py(3361)run_ast_nodes()\n",
      "-> if softspace(sys.stdout, 0):\n",
      "(Pdb) n\n",
      "> c:\\users\\rohan\\appdata\\local\\programs\\python\\python37-32\\lib\\site-packages\\ipython\\core\\interactiveshell.py(3379)run_ast_nodes()\n",
      "-> return False\n",
      "(Pdb) n\n",
      "Internal StopIteration: False\n",
      "> c:\\users\\rohan\\appdata\\local\\programs\\python\\python37-32\\lib\\site-packages\\ipython\\core\\interactiveshell.py(3166)run_cell_async()\n",
      "-> interactivity=interactivity, compiler=compiler, result=result)\n",
      "(Pdb) n\n",
      "> c:\\users\\rohan\\appdata\\local\\programs\\python\\python37-32\\lib\\site-packages\\ipython\\core\\interactiveshell.py(3168)run_cell_async()\n",
      "-> self.last_execution_succeeded = not has_raised\n",
      "(Pdb) n\n",
      "> c:\\users\\rohan\\appdata\\local\\programs\\python\\python37-32\\lib\\site-packages\\ipython\\core\\interactiveshell.py(3169)run_cell_async()\n",
      "-> self.last_execution_result = result\n",
      "(Pdb) n\n",
      "> c:\\users\\rohan\\appdata\\local\\programs\\python\\python37-32\\lib\\site-packages\\ipython\\core\\interactiveshell.py(3173)run_cell_async()\n",
      "-> self.displayhook.exec_result = None\n",
      "(Pdb) n\n",
      "> c:\\users\\rohan\\appdata\\local\\programs\\python\\python37-32\\lib\\site-packages\\ipython\\core\\interactiveshell.py(3175)run_cell_async()\n",
      "-> if store_history:\n",
      "(Pdb) n\n",
      "> c:\\users\\rohan\\appdata\\local\\programs\\python\\python37-32\\lib\\site-packages\\ipython\\core\\interactiveshell.py(3178)run_cell_async()\n",
      "-> self.history_manager.store_output(self.execution_count)\n",
      "(Pdb) n\n",
      "> c:\\users\\rohan\\appdata\\local\\programs\\python\\python37-32\\lib\\site-packages\\ipython\\core\\interactiveshell.py(3180)run_cell_async()\n",
      "-> self.execution_count += 1\n",
      "(Pdb) n\n",
      "> c:\\users\\rohan\\appdata\\local\\programs\\python\\python37-32\\lib\\site-packages\\ipython\\core\\interactiveshell.py(3182)run_cell_async()\n",
      "-> return result\n",
      "(Pdb) n\n",
      "StopIteration: <ExecutionResult object at 73f9ed0, execution_count=27 error_before_exec=None error_in_exec=None info=<ExecutionInfo object at 73f9e50, raw_cell=\"import pdb\n",
      "try:\n",
      "    a=int(input('value a'))\n",
      "    b=..\" store_history=True silent=False shell_futures=True> result=None>\n",
      "> c:\\users\\rohan\\appdata\\local\\programs\\python\\python37-32\\lib\\site-packages\\ipython\\core\\async_helpers.py(68)_pseudo_sync_runner()\n",
      "-> coro.send(None)\n",
      "(Pdb) n\n",
      "> c:\\users\\rohan\\appdata\\local\\programs\\python\\python37-32\\lib\\site-packages\\ipython\\core\\async_helpers.py(69)_pseudo_sync_runner()\n",
      "-> except StopIteration as exc:\n",
      "(Pdb) n\n",
      "> c:\\users\\rohan\\appdata\\local\\programs\\python\\python37-32\\lib\\site-packages\\ipython\\core\\async_helpers.py(70)_pseudo_sync_runner()\n",
      "-> return exc.value\n",
      "(Pdb) n\n",
      "--Return--\n",
      "> c:\\users\\rohan\\appdata\\local\\programs\\python\\python37-32\\lib\\site-packages\\ipython\\core\\async_helpers.py(70)_pseudo_sync_runner()-><ExecutionRes...> result=None>\n",
      "-> return exc.value\n",
      "(Pdb) q\n"
     ]
    },
    {
     "ename": "BdbQuit",
     "evalue": "",
     "output_type": "error",
     "traceback": [
      "\u001b[1;31m---------------------------------------------------------------------------\u001b[0m",
      "\u001b[1;31mBdbQuit\u001b[0m                                   Traceback (most recent call last)",
      "\u001b[1;32mc:\\users\\rohan\\appdata\\local\\programs\\python\\python37-32\\lib\\site-packages\\IPython\\core\\async_helpers.py\u001b[0m in \u001b[0;36m_pseudo_sync_runner\u001b[1;34m(coro)\u001b[0m\n\u001b[0;32m     68\u001b[0m         \u001b[0mcoro\u001b[0m\u001b[1;33m.\u001b[0m\u001b[0msend\u001b[0m\u001b[1;33m(\u001b[0m\u001b[1;32mNone\u001b[0m\u001b[1;33m)\u001b[0m\u001b[1;33m\u001b[0m\u001b[1;33m\u001b[0m\u001b[0m\n\u001b[0;32m     69\u001b[0m     \u001b[1;32mexcept\u001b[0m \u001b[0mStopIteration\u001b[0m \u001b[1;32mas\u001b[0m \u001b[0mexc\u001b[0m\u001b[1;33m:\u001b[0m\u001b[1;33m\u001b[0m\u001b[1;33m\u001b[0m\u001b[0m\n\u001b[1;32m---> 70\u001b[1;33m         \u001b[1;32mreturn\u001b[0m \u001b[0mexc\u001b[0m\u001b[1;33m.\u001b[0m\u001b[0mvalue\u001b[0m\u001b[1;33m\u001b[0m\u001b[1;33m\u001b[0m\u001b[0m\n\u001b[0m\u001b[0;32m     71\u001b[0m     \u001b[1;32melse\u001b[0m\u001b[1;33m:\u001b[0m\u001b[1;33m\u001b[0m\u001b[1;33m\u001b[0m\u001b[0m\n\u001b[0;32m     72\u001b[0m         \u001b[1;31m# TODO: do not raise but return an execution result with the right info.\u001b[0m\u001b[1;33m\u001b[0m\u001b[1;33m\u001b[0m\u001b[1;33m\u001b[0m\u001b[0m\n",
      "\u001b[1;32mc:\\users\\rohan\\appdata\\local\\programs\\python\\python37-32\\lib\\bdb.py\u001b[0m in \u001b[0;36mtrace_dispatch\u001b[1;34m(self, frame, event, arg)\u001b[0m\n\u001b[0;32m     90\u001b[0m             \u001b[1;32mreturn\u001b[0m \u001b[0mself\u001b[0m\u001b[1;33m.\u001b[0m\u001b[0mdispatch_call\u001b[0m\u001b[1;33m(\u001b[0m\u001b[0mframe\u001b[0m\u001b[1;33m,\u001b[0m \u001b[0marg\u001b[0m\u001b[1;33m)\u001b[0m\u001b[1;33m\u001b[0m\u001b[1;33m\u001b[0m\u001b[0m\n\u001b[0;32m     91\u001b[0m         \u001b[1;32mif\u001b[0m \u001b[0mevent\u001b[0m \u001b[1;33m==\u001b[0m \u001b[1;34m'return'\u001b[0m\u001b[1;33m:\u001b[0m\u001b[1;33m\u001b[0m\u001b[1;33m\u001b[0m\u001b[0m\n\u001b[1;32m---> 92\u001b[1;33m             \u001b[1;32mreturn\u001b[0m \u001b[0mself\u001b[0m\u001b[1;33m.\u001b[0m\u001b[0mdispatch_return\u001b[0m\u001b[1;33m(\u001b[0m\u001b[0mframe\u001b[0m\u001b[1;33m,\u001b[0m \u001b[0marg\u001b[0m\u001b[1;33m)\u001b[0m\u001b[1;33m\u001b[0m\u001b[1;33m\u001b[0m\u001b[0m\n\u001b[0m\u001b[0;32m     93\u001b[0m         \u001b[1;32mif\u001b[0m \u001b[0mevent\u001b[0m \u001b[1;33m==\u001b[0m \u001b[1;34m'exception'\u001b[0m\u001b[1;33m:\u001b[0m\u001b[1;33m\u001b[0m\u001b[1;33m\u001b[0m\u001b[0m\n\u001b[0;32m     94\u001b[0m             \u001b[1;32mreturn\u001b[0m \u001b[0mself\u001b[0m\u001b[1;33m.\u001b[0m\u001b[0mdispatch_exception\u001b[0m\u001b[1;33m(\u001b[0m\u001b[0mframe\u001b[0m\u001b[1;33m,\u001b[0m \u001b[0marg\u001b[0m\u001b[1;33m)\u001b[0m\u001b[1;33m\u001b[0m\u001b[1;33m\u001b[0m\u001b[0m\n",
      "\u001b[1;32mc:\\users\\rohan\\appdata\\local\\programs\\python\\python37-32\\lib\\bdb.py\u001b[0m in \u001b[0;36mdispatch_return\u001b[1;34m(self, frame, arg)\u001b[0m\n\u001b[0;32m    152\u001b[0m             \u001b[1;32mfinally\u001b[0m\u001b[1;33m:\u001b[0m\u001b[1;33m\u001b[0m\u001b[1;33m\u001b[0m\u001b[0m\n\u001b[0;32m    153\u001b[0m                 \u001b[0mself\u001b[0m\u001b[1;33m.\u001b[0m\u001b[0mframe_returning\u001b[0m \u001b[1;33m=\u001b[0m \u001b[1;32mNone\u001b[0m\u001b[1;33m\u001b[0m\u001b[1;33m\u001b[0m\u001b[0m\n\u001b[1;32m--> 154\u001b[1;33m             \u001b[1;32mif\u001b[0m \u001b[0mself\u001b[0m\u001b[1;33m.\u001b[0m\u001b[0mquitting\u001b[0m\u001b[1;33m:\u001b[0m \u001b[1;32mraise\u001b[0m \u001b[0mBdbQuit\u001b[0m\u001b[1;33m\u001b[0m\u001b[1;33m\u001b[0m\u001b[0m\n\u001b[0m\u001b[0;32m    155\u001b[0m             \u001b[1;31m# The user issued a 'next' or 'until' command.\u001b[0m\u001b[1;33m\u001b[0m\u001b[1;33m\u001b[0m\u001b[1;33m\u001b[0m\u001b[0m\n\u001b[0;32m    156\u001b[0m             \u001b[1;32mif\u001b[0m \u001b[0mself\u001b[0m\u001b[1;33m.\u001b[0m\u001b[0mstopframe\u001b[0m \u001b[1;32mis\u001b[0m \u001b[0mframe\u001b[0m \u001b[1;32mand\u001b[0m \u001b[0mself\u001b[0m\u001b[1;33m.\u001b[0m\u001b[0mstoplineno\u001b[0m \u001b[1;33m!=\u001b[0m \u001b[1;33m-\u001b[0m\u001b[1;36m1\u001b[0m\u001b[1;33m:\u001b[0m\u001b[1;33m\u001b[0m\u001b[1;33m\u001b[0m\u001b[0m\n",
      "\u001b[1;31mBdbQuit\u001b[0m: "
     ]
    }
   ],
   "source": [
    "import pdb\n",
    "try:\n",
    "    a=int(input('value a'))\n",
    "    b=int(input('value of b'))\n",
    "    if b==0:\n",
    "        raise ZeroDivisionError\n",
    "except Exception as a:\n",
    "    print(a.__cause__)\n",
    "    pdb.set_trace()\n",
    "    print(repr(a))"
   ]
  },
  {
   "cell_type": "markdown",
   "metadata": {},
   "source": [
    "# Q5. Identify two methods for specifying actions to be executed at termination time, regardless of whether or not an exception exists.\n"
   ]
  },
  {
   "cell_type": "code",
   "execution_count": null,
   "metadata": {},
   "outputs": [],
   "source": [
    "==>we have to close file or database or any connections close before termination if exception occurs or not also we have to cclose all resources.\n"
   ]
  },
  {
   "cell_type": "code",
   "execution_count": 35,
   "metadata": {},
   "outputs": [
    {
     "name": "stdout",
     "output_type": "stream",
     "text": [
      "finally blocck\n",
      "if block\n"
     ]
    }
   ],
   "source": [
    "try:\n",
    "    raise KeyboardInterrupt\n",
    "except:\n",
    "    pass\n",
    "finally:\n",
    "    print('finally blocck')\n",
    "if True:\n",
    "    print('if block')\n",
    "else:\n",
    "    print('else block')\n"
   ]
  }
 ],
 "metadata": {
  "kernelspec": {
   "display_name": "Python 3",
   "language": "python",
   "name": "python3"
  },
  "language_info": {
   "codemirror_mode": {
    "name": "ipython",
    "version": 3
   },
   "file_extension": ".py",
   "mimetype": "text/x-python",
   "name": "python",
   "nbconvert_exporter": "python",
   "pygments_lexer": "ipython3",
   "version": "3.7.4"
  }
 },
 "nbformat": 4,
 "nbformat_minor": 4
}
